{
  "nbformat": 4,
  "nbformat_minor": 0,
  "metadata": {
    "colab": {
      "provenance": [],
      "authorship_tag": "ABX9TyPtW6YEp3XXSuZ/aKUSQEHA",
      "include_colab_link": true
    },
    "kernelspec": {
      "name": "python3",
      "display_name": "Python 3"
    },
    "language_info": {
      "name": "python"
    }
  },
  "cells": [
    {
      "cell_type": "markdown",
      "metadata": {
        "id": "view-in-github",
        "colab_type": "text"
      },
      "source": [
        "<a href=\"https://colab.research.google.com/github/muskan1053/Create-calculator-through-Python/blob/main/calculator_create.ipynb\" target=\"_parent\"><img src=\"https://colab.research.google.com/assets/colab-badge.svg\" alt=\"Open In Colab\"/></a>"
      ]
    },
    {
      "cell_type": "markdown",
      "source": [
        "**Calculater create through Python**"
      ],
      "metadata": {
        "id": "9QRc0IZMPZvd"
      }
    },
    {
      "cell_type": "code",
      "execution_count": 4,
      "metadata": {
        "colab": {
          "base_uri": "https://localhost:8080/"
        },
        "id": "LLjbxLQpD180",
        "outputId": "620386e9-bece-4696-bd6f-cb70b941261f"
      },
      "outputs": [
        {
          "output_type": "stream",
          "name": "stdout",
          "text": [
            "option 1= add\n",
            "          option 2= sub\n",
            "          option 3= div\n",
            "          option 4= mul\n",
            "enter the value:90\n",
            "enter the value:9\n",
            "choose: 1/2/3/43\n",
            "10.0\n"
          ]
        }
      ],
      "source": [
        "#calculater creat\n",
        "def add(a,b):\n",
        "  return a+b\n",
        "def sub(a,b):8\n",
        "  return a-b\n",
        "def div(a,b):\n",
        "  return a/b\n",
        "def mul(a,b):\n",
        "  return a*b\n",
        "\n",
        "print(\"\"\"option 1= add\n",
        "          option 2= sub\n",
        "          option 3= div\n",
        "          option 4= mul\"\"\")\n",
        "a=int(input(\"enter the value:\"))\n",
        "b=int(input(\"enter the value:\"))\n",
        "choose=int(input(\"choose: 1/2/3/4\"))\n",
        "if choose==1:\n",
        "  print(add(a,b))\n",
        "if choose==2:\n",
        "  print(sub(a,b))\n",
        "if choose==3:\n",
        "  print(div(a,b))\n",
        "if choose==4:\n",
        "  print(mul(a,b))"
      ]
    }
  ]
}